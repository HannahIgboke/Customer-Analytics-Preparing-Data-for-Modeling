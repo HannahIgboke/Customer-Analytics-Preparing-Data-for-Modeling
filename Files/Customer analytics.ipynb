{
 "cells": [
  {
   "cell_type": "markdown",
   "id": "c09c0ffb",
   "metadata": {},
   "source": [
    "# Customer Analytics: Preparing Data for Modeling"
   ]
  },
  {
   "cell_type": "markdown",
   "id": "a09e6d54-bf3f-4632-b299-bd49d5c80d5f",
   "metadata": {},
   "source": [
    "![Two data scientists working on a dashboard.](Students.png)\n",
    "\n",
    "A common problem when creating models to generate business value from data is that the datasets can be so large that it can take days for the model to generate predictions. Ensuring that the dataset is stored as efficiently as possible is crucial for allowing these models to run on a more reasonable timescale without having to reduce the size of the dataset.\n",
    "\n",
    "In this scenario, I have been hired by a major online data science training provider called *Training Data Ltd.* to clean up one of their largest customer datasets. This dataset will eventually be used to predict whether their students are looking for a new job or not, information that they will then use to direct them to prospective recruiters.\n",
    "\n",
    "I have been given access to `customer_train.csv`, which is a subset of their entire customer dataset, so I can create a proof-of-concept of a much more efficient storage solution. They have also requested that the DataFrame should be filtered to only contain students with 10 or more years of experience at companies with at least 1000 employees, as their recruiter base is suited to more experienced professionals at enterprise companies.\n",
    "\n",
    "The dataset contains anonymized student information, and whether they were looking for a new job or not during training:\n",
    "\n",
    "| Column       | Description                                  |\n",
    "|------------- |--------------------------------------------- |\n",
    "| `student_id`   | A unique ID for each student.                 |\n",
    "| `city`  | A code for the city the student lives in.  |\n",
    "| `city_development_index` | A scaled development index for the city.       |\n",
    "| `gender` | The student's gender.       |\n",
    "| `relevant_experience` | An indicator of the student's work relevant experience.       |\n",
    "| `enrolled_university` | The type of university course enrolled in (if any).       |\n",
    "| `education_level` | The student's education level.       |\n",
    "| `major_discipline` | The educational discipline of the student.       |\n",
    "| `experience` | The student's total work experience (in years).       |\n",
    "| `company_size` | The number of employees at the student's current employer.       |\n",
    "| `last_new_job` | The number of years between the student's current and previous jobs.       |\n",
    "| `training_hours` | The number of hours of training completed.       |\n",
    "| `job_change` | An indicator of whether the student is looking for a new job (`1`) or not (`0`).       |"
   ]
  },
  {
   "cell_type": "markdown",
   "id": "e4677f0a",
   "metadata": {},
   "source": [
    "## Workflow/steps\n",
    "\n",
    "- Columns containing integers will be stored as 32-bit integers (int32) and those containing floats stored as 16-bit floats (float16).\n",
    "\n",
    "\n",
    "- Nominal categorical data columns are to be stored as the category data type while ordinal categorical data columns would be stored as ordered categories, with an order that reflects the natural order of the columns.\n",
    "\n",
    "\n",
    "- The columns of ds_jobs_clean will be in the same order as the original dataset.\n",
    "\n",
    "\n",
    "- Filter dataframe\n"
   ]
  },
  {
   "cell_type": "code",
   "execution_count": 17,
   "id": "7dacda55-041c-4985-87ee-af451dcd6d8c",
   "metadata": {
    "executionCancelledAt": null,
    "executionTime": 146,
    "lastExecutedAt": 1708954426013,
    "lastScheduledRunId": null,
    "lastSuccessfullyExecutedCode": "# Start your code here!\nimport pandas as pd\n\n# load the dataset\nds_jobs = pd.read_csv('customer_train.csv')\n\n# making a copy of the dataframe for cleaning\nds_jobs_clean = ds_jobs.copy()\n\nds_jobs_clean",
    "outputsMetadata": {
     "0": {
      "height": 372,
      "type": "dataFrame"
     }
    }
   },
   "outputs": [
    {
     "data": {
      "text/html": [
       "<div>\n",
       "<style scoped>\n",
       "    .dataframe tbody tr th:only-of-type {\n",
       "        vertical-align: middle;\n",
       "    }\n",
       "\n",
       "    .dataframe tbody tr th {\n",
       "        vertical-align: top;\n",
       "    }\n",
       "\n",
       "    .dataframe thead th {\n",
       "        text-align: right;\n",
       "    }\n",
       "</style>\n",
       "<table border=\"1\" class=\"dataframe\">\n",
       "  <thead>\n",
       "    <tr style=\"text-align: right;\">\n",
       "      <th></th>\n",
       "      <th>student_id</th>\n",
       "      <th>city</th>\n",
       "      <th>city_development_index</th>\n",
       "      <th>gender</th>\n",
       "      <th>relevant_experience</th>\n",
       "      <th>enrolled_university</th>\n",
       "      <th>education_level</th>\n",
       "      <th>major_discipline</th>\n",
       "      <th>experience</th>\n",
       "      <th>company_size</th>\n",
       "      <th>company_type</th>\n",
       "      <th>last_new_job</th>\n",
       "      <th>training_hours</th>\n",
       "      <th>job_change</th>\n",
       "    </tr>\n",
       "  </thead>\n",
       "  <tbody>\n",
       "    <tr>\n",
       "      <th>0</th>\n",
       "      <td>8949</td>\n",
       "      <td>city_103</td>\n",
       "      <td>0.920</td>\n",
       "      <td>Male</td>\n",
       "      <td>Has relevant experience</td>\n",
       "      <td>no_enrollment</td>\n",
       "      <td>Graduate</td>\n",
       "      <td>STEM</td>\n",
       "      <td>&gt;20</td>\n",
       "      <td>NaN</td>\n",
       "      <td>NaN</td>\n",
       "      <td>1</td>\n",
       "      <td>36</td>\n",
       "      <td>1</td>\n",
       "    </tr>\n",
       "    <tr>\n",
       "      <th>1</th>\n",
       "      <td>29725</td>\n",
       "      <td>city_40</td>\n",
       "      <td>0.776</td>\n",
       "      <td>Male</td>\n",
       "      <td>No relevant experience</td>\n",
       "      <td>no_enrollment</td>\n",
       "      <td>Graduate</td>\n",
       "      <td>STEM</td>\n",
       "      <td>15</td>\n",
       "      <td>50-99</td>\n",
       "      <td>Pvt Ltd</td>\n",
       "      <td>&gt;4</td>\n",
       "      <td>47</td>\n",
       "      <td>0</td>\n",
       "    </tr>\n",
       "    <tr>\n",
       "      <th>2</th>\n",
       "      <td>11561</td>\n",
       "      <td>city_21</td>\n",
       "      <td>0.624</td>\n",
       "      <td>NaN</td>\n",
       "      <td>No relevant experience</td>\n",
       "      <td>Full time course</td>\n",
       "      <td>Graduate</td>\n",
       "      <td>STEM</td>\n",
       "      <td>5</td>\n",
       "      <td>NaN</td>\n",
       "      <td>NaN</td>\n",
       "      <td>never</td>\n",
       "      <td>83</td>\n",
       "      <td>0</td>\n",
       "    </tr>\n",
       "    <tr>\n",
       "      <th>3</th>\n",
       "      <td>33241</td>\n",
       "      <td>city_115</td>\n",
       "      <td>0.789</td>\n",
       "      <td>NaN</td>\n",
       "      <td>No relevant experience</td>\n",
       "      <td>NaN</td>\n",
       "      <td>Graduate</td>\n",
       "      <td>Business Degree</td>\n",
       "      <td>&lt;1</td>\n",
       "      <td>NaN</td>\n",
       "      <td>Pvt Ltd</td>\n",
       "      <td>never</td>\n",
       "      <td>52</td>\n",
       "      <td>1</td>\n",
       "    </tr>\n",
       "    <tr>\n",
       "      <th>4</th>\n",
       "      <td>666</td>\n",
       "      <td>city_162</td>\n",
       "      <td>0.767</td>\n",
       "      <td>Male</td>\n",
       "      <td>Has relevant experience</td>\n",
       "      <td>no_enrollment</td>\n",
       "      <td>Masters</td>\n",
       "      <td>STEM</td>\n",
       "      <td>&gt;20</td>\n",
       "      <td>50-99</td>\n",
       "      <td>Funded Startup</td>\n",
       "      <td>4</td>\n",
       "      <td>8</td>\n",
       "      <td>0</td>\n",
       "    </tr>\n",
       "    <tr>\n",
       "      <th>...</th>\n",
       "      <td>...</td>\n",
       "      <td>...</td>\n",
       "      <td>...</td>\n",
       "      <td>...</td>\n",
       "      <td>...</td>\n",
       "      <td>...</td>\n",
       "      <td>...</td>\n",
       "      <td>...</td>\n",
       "      <td>...</td>\n",
       "      <td>...</td>\n",
       "      <td>...</td>\n",
       "      <td>...</td>\n",
       "      <td>...</td>\n",
       "      <td>...</td>\n",
       "    </tr>\n",
       "    <tr>\n",
       "      <th>19153</th>\n",
       "      <td>7386</td>\n",
       "      <td>city_173</td>\n",
       "      <td>0.878</td>\n",
       "      <td>Male</td>\n",
       "      <td>No relevant experience</td>\n",
       "      <td>no_enrollment</td>\n",
       "      <td>Graduate</td>\n",
       "      <td>Humanities</td>\n",
       "      <td>14</td>\n",
       "      <td>NaN</td>\n",
       "      <td>NaN</td>\n",
       "      <td>1</td>\n",
       "      <td>42</td>\n",
       "      <td>1</td>\n",
       "    </tr>\n",
       "    <tr>\n",
       "      <th>19154</th>\n",
       "      <td>31398</td>\n",
       "      <td>city_103</td>\n",
       "      <td>0.920</td>\n",
       "      <td>Male</td>\n",
       "      <td>Has relevant experience</td>\n",
       "      <td>no_enrollment</td>\n",
       "      <td>Graduate</td>\n",
       "      <td>STEM</td>\n",
       "      <td>14</td>\n",
       "      <td>NaN</td>\n",
       "      <td>NaN</td>\n",
       "      <td>4</td>\n",
       "      <td>52</td>\n",
       "      <td>1</td>\n",
       "    </tr>\n",
       "    <tr>\n",
       "      <th>19155</th>\n",
       "      <td>24576</td>\n",
       "      <td>city_103</td>\n",
       "      <td>0.920</td>\n",
       "      <td>Male</td>\n",
       "      <td>Has relevant experience</td>\n",
       "      <td>no_enrollment</td>\n",
       "      <td>Graduate</td>\n",
       "      <td>STEM</td>\n",
       "      <td>&gt;20</td>\n",
       "      <td>50-99</td>\n",
       "      <td>Pvt Ltd</td>\n",
       "      <td>4</td>\n",
       "      <td>44</td>\n",
       "      <td>0</td>\n",
       "    </tr>\n",
       "    <tr>\n",
       "      <th>19156</th>\n",
       "      <td>5756</td>\n",
       "      <td>city_65</td>\n",
       "      <td>0.802</td>\n",
       "      <td>Male</td>\n",
       "      <td>Has relevant experience</td>\n",
       "      <td>no_enrollment</td>\n",
       "      <td>High School</td>\n",
       "      <td>NaN</td>\n",
       "      <td>&lt;1</td>\n",
       "      <td>500-999</td>\n",
       "      <td>Pvt Ltd</td>\n",
       "      <td>2</td>\n",
       "      <td>97</td>\n",
       "      <td>0</td>\n",
       "    </tr>\n",
       "    <tr>\n",
       "      <th>19157</th>\n",
       "      <td>23834</td>\n",
       "      <td>city_67</td>\n",
       "      <td>0.855</td>\n",
       "      <td>NaN</td>\n",
       "      <td>No relevant experience</td>\n",
       "      <td>no_enrollment</td>\n",
       "      <td>Primary School</td>\n",
       "      <td>NaN</td>\n",
       "      <td>2</td>\n",
       "      <td>NaN</td>\n",
       "      <td>NaN</td>\n",
       "      <td>1</td>\n",
       "      <td>127</td>\n",
       "      <td>0</td>\n",
       "    </tr>\n",
       "  </tbody>\n",
       "</table>\n",
       "<p>19158 rows × 14 columns</p>\n",
       "</div>"
      ],
      "text/plain": [
       "       student_id      city  city_development_index gender  \\\n",
       "0            8949  city_103                   0.920   Male   \n",
       "1           29725   city_40                   0.776   Male   \n",
       "2           11561   city_21                   0.624    NaN   \n",
       "3           33241  city_115                   0.789    NaN   \n",
       "4             666  city_162                   0.767   Male   \n",
       "...           ...       ...                     ...    ...   \n",
       "19153        7386  city_173                   0.878   Male   \n",
       "19154       31398  city_103                   0.920   Male   \n",
       "19155       24576  city_103                   0.920   Male   \n",
       "19156        5756   city_65                   0.802   Male   \n",
       "19157       23834   city_67                   0.855    NaN   \n",
       "\n",
       "           relevant_experience enrolled_university education_level  \\\n",
       "0      Has relevant experience       no_enrollment        Graduate   \n",
       "1       No relevant experience       no_enrollment        Graduate   \n",
       "2       No relevant experience    Full time course        Graduate   \n",
       "3       No relevant experience                 NaN        Graduate   \n",
       "4      Has relevant experience       no_enrollment         Masters   \n",
       "...                        ...                 ...             ...   \n",
       "19153   No relevant experience       no_enrollment        Graduate   \n",
       "19154  Has relevant experience       no_enrollment        Graduate   \n",
       "19155  Has relevant experience       no_enrollment        Graduate   \n",
       "19156  Has relevant experience       no_enrollment     High School   \n",
       "19157   No relevant experience       no_enrollment  Primary School   \n",
       "\n",
       "      major_discipline experience company_size    company_type last_new_job  \\\n",
       "0                 STEM        >20          NaN             NaN            1   \n",
       "1                 STEM         15        50-99         Pvt Ltd           >4   \n",
       "2                 STEM          5          NaN             NaN        never   \n",
       "3      Business Degree         <1          NaN         Pvt Ltd        never   \n",
       "4                 STEM        >20        50-99  Funded Startup            4   \n",
       "...                ...        ...          ...             ...          ...   \n",
       "19153       Humanities         14          NaN             NaN            1   \n",
       "19154             STEM         14          NaN             NaN            4   \n",
       "19155             STEM        >20        50-99         Pvt Ltd            4   \n",
       "19156              NaN         <1      500-999         Pvt Ltd            2   \n",
       "19157              NaN          2          NaN             NaN            1   \n",
       "\n",
       "       training_hours  job_change  \n",
       "0                  36           1  \n",
       "1                  47           0  \n",
       "2                  83           0  \n",
       "3                  52           1  \n",
       "4                   8           0  \n",
       "...               ...         ...  \n",
       "19153              42           1  \n",
       "19154              52           1  \n",
       "19155              44           0  \n",
       "19156              97           0  \n",
       "19157             127           0  \n",
       "\n",
       "[19158 rows x 14 columns]"
      ]
     },
     "execution_count": 17,
     "metadata": {},
     "output_type": "execute_result"
    }
   ],
   "source": [
    "# importing the pandas library\n",
    "import pandas as pd\n",
    "\n",
    "# loading the dataset\n",
    "ds_jobs = pd.read_csv('customer_train.csv')\n",
    "\n",
    "# making a copy of the dataframe for cleaning\n",
    "ds_jobs_clean = ds_jobs.copy()\n",
    "\n",
    "ds_jobs_clean"
   ]
  },
  {
   "cell_type": "markdown",
   "id": "66b73fd9-46a9-4ae1-b8bc-9e27ae681b61",
   "metadata": {},
   "source": [
    "## Performing exploratory data anlysis"
   ]
  },
  {
   "cell_type": "code",
   "execution_count": 18,
   "id": "05acd7f5-13b9-4cfc-bb9d-26c2ea5b500e",
   "metadata": {
    "executionCancelledAt": null,
    "executionTime": 68,
    "lastExecutedAt": 1708954426081,
    "lastScheduledRunId": null,
    "lastSuccessfullyExecutedCode": "ds_jobs_clean.info()",
    "outputsMetadata": {
     "0": {
      "height": 437,
      "type": "stream"
     }
    }
   },
   "outputs": [
    {
     "name": "stdout",
     "output_type": "stream",
     "text": [
      "<class 'pandas.core.frame.DataFrame'>\n",
      "RangeIndex: 19158 entries, 0 to 19157\n",
      "Data columns (total 14 columns):\n",
      " #   Column                  Non-Null Count  Dtype  \n",
      "---  ------                  --------------  -----  \n",
      " 0   student_id              19158 non-null  int64  \n",
      " 1   city                    19158 non-null  object \n",
      " 2   city_development_index  19158 non-null  float64\n",
      " 3   gender                  14650 non-null  object \n",
      " 4   relevant_experience     19158 non-null  object \n",
      " 5   enrolled_university     18772 non-null  object \n",
      " 6   education_level         18698 non-null  object \n",
      " 7   major_discipline        16345 non-null  object \n",
      " 8   experience              19093 non-null  object \n",
      " 9   company_size            13220 non-null  object \n",
      " 10  company_type            13018 non-null  object \n",
      " 11  last_new_job            18735 non-null  object \n",
      " 12  training_hours          19158 non-null  int64  \n",
      " 13  job_change              19158 non-null  int64  \n",
      "dtypes: float64(1), int64(3), object(10)\n",
      "memory usage: 2.0+ MB\n"
     ]
    }
   ],
   "source": [
    "ds_jobs_clean.info()"
   ]
  },
  {
   "cell_type": "code",
   "execution_count": 19,
   "id": "e6c72498-c521-4d92-be6d-4e8a94ace8ab",
   "metadata": {
    "executionCancelledAt": null,
    "executionTime": 76,
    "lastExecutedAt": 1708954426157,
    "lastScheduledRunId": null,
    "lastSuccessfullyExecutedCode": "# the number of null values per column\nds_jobs_clean.isna().sum().sort_values(ascending = False)"
   },
   "outputs": [
    {
     "data": {
      "text/plain": [
       "company_type              6140\n",
       "company_size              5938\n",
       "gender                    4508\n",
       "major_discipline          2813\n",
       "education_level            460\n",
       "last_new_job               423\n",
       "enrolled_university        386\n",
       "experience                  65\n",
       "student_id                   0\n",
       "city                         0\n",
       "city_development_index       0\n",
       "relevant_experience          0\n",
       "training_hours               0\n",
       "job_change                   0\n",
       "dtype: int64"
      ]
     },
     "execution_count": 19,
     "metadata": {},
     "output_type": "execute_result"
    }
   ],
   "source": [
    "# the number of null values per column\n",
    "ds_jobs_clean.isna().sum().sort_values(ascending = False)"
   ]
  },
  {
   "cell_type": "markdown",
   "id": "6445d58f",
   "metadata": {},
   "source": [
    "### Nominal vs Ordinal data\n",
    "\n",
    "Nominal data refers to categories or labels without any inherent order or ranking between them. For example, color = Red, Green, Blue. There is no inherent order or ranking between these categories, one isn't smaller or greater than the other.\n",
    "\n",
    "\n",
    "On the flip side, Ordinal data represents categories or labels that have a meaningful order or ranking. E.g, Rating scales (1 star, 2 stars, 3 stars). Here we can say that one category is greater or lesser than another in terms of the variable being measured.\n"
   ]
  },
  {
   "cell_type": "code",
   "execution_count": 25,
   "id": "ddc54b65",
   "metadata": {},
   "outputs": [],
   "source": [
    "# Highlighting the nominal columns\n",
    "\n",
    "nominal_columns = ['gender', 'major_discipline', 'city', 'company_type']"
   ]
  },
  {
   "cell_type": "code",
   "execution_count": 20,
   "id": "52796342-ee2e-4b2f-917a-dd9e180aa875",
   "metadata": {
    "executionCancelledAt": null,
    "executionTime": 51,
    "lastExecutedAt": 1708954426208,
    "lastScheduledRunId": null,
    "lastSuccessfullyExecutedCode": "# Creating a dictionary of columns containing ordered categorical data\n\nordered_cats = {\n    'relevant_experience': ['No relevant experience', 'Has relevant experience'],\n    'enrolled_university': ['no_enrollment', 'Part time course', 'Full time course'],\n    'education_level': ['Primary School','High School', 'Graduate', 'Masters', 'Phd'],\n    'experience': ['<1'] + list(map(str, range(1,21))) + ['>20'],\n    'company_size': ['<10', '10-49', '100-499', '1000-4999','10000+', '50-99', '500-999', '5000-9999'],\n    'last_new_job': ['never', '1', '2', '3', '4', '>4']\n}"
   },
   "outputs": [],
   "source": [
    "# Creating a dictionary of columns containing ordinal categorical data\n",
    "\n",
    "ordered_cats = {\n",
    "    'relevant_experience': ['No relevant experience', 'Has relevant experience'],\n",
    "    'enrolled_university': ['no_enrollment', 'Part time course', 'Full time course'],\n",
    "    'education_level': ['Primary School','High School', 'Graduate', 'Masters', 'Phd'],\n",
    "    'experience': ['<1'] + list(map(str, range(1,21))) + ['>20'],\n",
    "    'company_size': ['<10', '10-49', '100-499', '1000-4999','10000+', '50-99', '500-999', '5000-9999'],\n",
    "    'last_new_job': ['never', '1', '2', '3', '4', '>4']\n",
    "}"
   ]
  },
  {
   "cell_type": "code",
   "execution_count": 21,
   "id": "201b759c-3b15-4e09-b0b5-40f4b7ba5d01",
   "metadata": {
    "executionCancelledAt": null,
    "executionTime": 50,
    "lastExecutedAt": 1708954426260,
    "lastScheduledRunId": null,
    "lastSuccessfullyExecutedCode": "# next create a a for loop to loop through the dataframe columns to efficiently change data types\n\nfor col in ds_jobs_clean:\n    # converting from interger to int32\n    if ds_jobs_clean[col].dtype == 'int':\n        ds_jobs_clean[col] =  ds_jobs_clean[col].astype('int32')\n    \n    # converting from float to float16\n    elif ds_jobs_clean[col].dtype == 'float':\n        ds_jobs_clean[col] = ds_jobs_clean[col].astype('float16')\n    \n    # converting columns containing ordered categorical using the dictionary above\n    elif col in ordered_cats.keys():\n        category = pd.CategoricalDtype(ordered_cats[col], ordered = True)\n        ds_jobs_clean[col] = ds_jobs_clean[col].astype(category)\n      \n    \n    # converting the remaining nominal columns to a category data type\n    else:\n        ds_jobs_clean[col] = ds_jobs_clean[col].astype('category')"
   },
   "outputs": [],
   "source": [
    "# next create a for loop to loop through the dataframe columns to efficiently change data types\n",
    "\n",
    "for col in ds_jobs_clean:\n",
    "    # converting from interger to int32\n",
    "    if ds_jobs_clean[col].dtype == 'int':\n",
    "        ds_jobs_clean[col] =  ds_jobs_clean[col].astype('int32')\n",
    "    \n",
    "    # converting from float to float16\n",
    "    elif ds_jobs_clean[col].dtype == 'float':\n",
    "        ds_jobs_clean[col] = ds_jobs_clean[col].astype('float16')\n",
    "    \n",
    "    # converting columns containing ordered categorical using the dictionary above\n",
    "    elif col in ordered_cats.keys():\n",
    "        category = pd.CategoricalDtype(ordered_cats[col], ordered = True)\n",
    "        ds_jobs_clean[col] = ds_jobs_clean[col].astype(category)\n",
    "      \n",
    "    \n",
    "    # converting the remaining nominal columns to a category data type\n",
    "    else:\n",
    "        ds_jobs_clean[col] = ds_jobs_clean[col].astype('category')"
   ]
  },
  {
   "cell_type": "code",
   "execution_count": 22,
   "id": "2873101c-e2ab-432e-92f6-1dc3d2c8fe58",
   "metadata": {
    "executionCancelledAt": null,
    "executionTime": 56,
    "lastExecutedAt": 1708954426318,
    "lastScheduledRunId": null,
    "lastSuccessfullyExecutedCode": "# To filter students with 10 or more years experience with >= 10 years of experience at companies with at >=1000 employees\n\nds_jobs_clean = ds_jobs_clean[(ds_jobs_clean['experience'] >= '10') & (ds_jobs_clean['company_size'] >= '1000-4999')]\n\nlen(ds_jobs_clean)"
   },
   "outputs": [
    {
     "data": {
      "text/plain": [
       "4086"
      ]
     },
     "execution_count": 22,
     "metadata": {},
     "output_type": "execute_result"
    }
   ],
   "source": [
    "# To filter students with at least 10 years of experience at companies with at least a thousand employees\n",
    "\n",
    "ds_jobs_clean = ds_jobs_clean[(ds_jobs_clean['experience'] >= '10') & (ds_jobs_clean['company_size'] >= '1000-4999')]\n",
    "\n",
    "len(ds_jobs_clean)"
   ]
  },
  {
   "cell_type": "markdown",
   "id": "b2f0489a",
   "metadata": {},
   "source": [
    "## To check and compare memory usage of the two dataframes"
   ]
  },
  {
   "cell_type": "code",
   "execution_count": 23,
   "id": "7285e527-d48e-4c3e-85ce-69fcbd1731fc",
   "metadata": {
    "executionCancelledAt": null,
    "executionTime": 67,
    "lastExecutedAt": 1708954426385,
    "lastScheduledRunId": null,
    "lastSuccessfullyExecutedCode": "# to check and compare memeory usage of the two datframes\n\nds_jobs_memory_usage = ds_jobs.memory_usage(deep = True).sum()\n\nprint(f'Total memory usage of the ds_jobs datframe is {ds_jobs_memory_usage} bytes')\n",
    "outputsMetadata": {
     "0": {
      "height": 57,
      "type": "stream"
     }
    }
   },
   "outputs": [
    {
     "name": "stdout",
     "output_type": "stream",
     "text": [
      "Total memory usage of the ds_jobs datframe is 12391705 bytes\n"
     ]
    }
   ],
   "source": [
    "# Dataframe 1\n",
    "\n",
    "ds_jobs_memory_usage = ds_jobs.memory_usage(deep = True).sum()\n",
    "\n",
    "print(f'Total memory usage of the ds_jobs datframe is {ds_jobs_memory_usage} bytes')\n"
   ]
  },
  {
   "cell_type": "code",
   "execution_count": 24,
   "id": "5512ebb3-378b-480b-8dd2-25c298bc2fc2",
   "metadata": {
    "executionCancelledAt": null,
    "executionTime": 56,
    "lastExecutedAt": 1708954426441,
    "lastScheduledRunId": null,
    "lastSuccessfullyExecutedCode": "ds_jobs_clean_memory_usage = ds_jobs_clean.memory_usage(deep = True).sum()\n\nprint(f'Total memory usage of the ds_jobs_clean datframe is {ds_jobs_clean_memory_usage} bytes')",
    "outputsMetadata": {
     "0": {
      "height": 57,
      "type": "stream"
     }
    }
   },
   "outputs": [
    {
     "name": "stdout",
     "output_type": "stream",
     "text": [
      "Total memory usage of the ds_jobs_clean datframe is 811972 bytes\n"
     ]
    }
   ],
   "source": [
    "# Dataframe 2\n",
    "\n",
    "ds_jobs_clean_memory_usage = ds_jobs_clean.memory_usage(deep = True).sum()\n",
    "\n",
    "print(f'Total memory usage of the ds_jobs_clean datframe is {ds_jobs_clean_memory_usage} bytes')"
   ]
  },
  {
   "cell_type": "markdown",
   "id": "6d91c208",
   "metadata": {},
   "source": [
    "## Mission accomplished✅\n",
    "\n",
    "Reducing the memory usage of this DataFrame involved optimizing the data types used to store its columns.\n",
    "\n",
    "\n",
    "- By default, Pandas stores integer columns as 64-bit integers (int64) and float columns as 64-bit floats (float64), which consume more memory than necessary, especially for large datasets.By converting these columns to int32 and float16 respectively, I reduced the memory footprint of these columns while still preserving the data integrity within the precision limits of these data types.\n",
    "\n",
    "\n",
    "- Nominal categories are stored as object data type by default. This again, consumes significant memory, especially since there were limited number of unique categories repeated across many rows. Converting these nominal categorical columns to the categorical data type helps Pandas to internally represent each unique category with an interger thereby reducing memory usage.\n",
    "\n",
    "\n",
    "- When ordinal data is stored as regular categorical data - object - it doesn't preserve the order between categories. Changing the data type makes pandas maintain the order between categories to ensure that operations like sorting, comparison and even plotting of categorical plots are done correctly."
   ]
  },
  {
   "cell_type": "code",
   "execution_count": null,
   "id": "d1406b84",
   "metadata": {},
   "outputs": [],
   "source": []
  }
 ],
 "metadata": {
  "editor": "DataCamp Workspace",
  "kernelspec": {
   "display_name": "Python 3 (ipykernel)",
   "language": "python",
   "name": "python3"
  },
  "language_info": {
   "codemirror_mode": {
    "name": "ipython",
    "version": 3
   },
   "file_extension": ".py",
   "mimetype": "text/x-python",
   "name": "python",
   "nbconvert_exporter": "python",
   "pygments_lexer": "ipython3",
   "version": "3.9.13"
  }
 },
 "nbformat": 4,
 "nbformat_minor": 5
}
